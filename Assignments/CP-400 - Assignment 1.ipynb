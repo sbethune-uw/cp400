{
 "cells": [
  {
   "cell_type": "markdown",
   "metadata": {},
   "source": [
    "# Assignment 1 - Intro to Data Science\n",
    "Student Name<br>\n",
    "October 10, 2017\n",
    "\n",
    "This assignment covers some beginning analysis exercises and an introduction to Python programming that covers basic operations to get you started building data science notebooks.\n",
    "\n",
    "## The objectives of this assignment are:\n",
    "* Review of data science project lifecycle\n",
    "* Review of data science project roles\n",
    "* Simple analysis excercises\n",
    "* Experience in the Jupyter notebook development environment\n",
    "* Practice using Python for data analysis\n",
    "* Crash course in Markdown document [formatting](https://github.com/adam-p/markdown-here/wiki/Markdown-Cheatsheet)"
   ]
  },
  {
   "cell_type": "markdown",
   "metadata": {},
   "source": [
    "### Question 1 - Project Lifecycle\n",
    "For each item below, write a short description of the following project activities:"
   ]
  },
  {
   "cell_type": "markdown",
   "metadata": {},
   "source": [
    "**1: Problem Statement**"
   ]
  },
  {
   "cell_type": "markdown",
   "metadata": {},
   "source": [
    "**2: Data Profile & Discovery**"
   ]
  },
  {
   "cell_type": "markdown",
   "metadata": {},
   "source": [
    "**3: Hypothesis Statement**"
   ]
  },
  {
   "cell_type": "markdown",
   "metadata": {},
   "source": [
    "**4: Data Preparation**"
   ]
  },
  {
   "cell_type": "markdown",
   "metadata": {},
   "source": [
    "**5: Model Development**"
   ]
  },
  {
   "cell_type": "markdown",
   "metadata": {},
   "source": [
    "**6: Model Evaluation**"
   ]
  },
  {
   "cell_type": "markdown",
   "metadata": {},
   "source": [
    "### Question 2 - Project Roles\n",
    "For each item below, briefly desribe the following **roles** in a Data Science project:"
   ]
  },
  {
   "cell_type": "markdown",
   "metadata": {},
   "source": [
    "**1: Project Manager**"
   ]
  },
  {
   "cell_type": "markdown",
   "metadata": {},
   "source": [
    "**2: Domain Expert**"
   ]
  },
  {
   "cell_type": "markdown",
   "metadata": {},
   "source": [
    "**3: Data Engineer**"
   ]
  },
  {
   "cell_type": "markdown",
   "metadata": {},
   "source": [
    "**4: Data Scientist**"
   ]
  },
  {
   "cell_type": "markdown",
   "metadata": {},
   "source": [
    "**5: Graphic Designer**"
   ]
  },
  {
   "cell_type": "markdown",
   "metadata": {},
   "source": [
    "### Question 3 - Comparison between Business Intelligence & Data Science"
   ]
  },
  {
   "cell_type": "markdown",
   "metadata": {},
   "source": [
    "#### a List some common objectives and activities in a Business Intelligence Project:\n",
    "*  Response 1\n",
    "*  Response 2\n",
    "*  Response 3\n",
    "*  Response 4"
   ]
  },
  {
   "cell_type": "markdown",
   "metadata": {},
   "source": [
    "#### b. List some common objectives and activities in a Data Science Project:\n",
    "*  Response 1\n",
    "*  Response 2\n",
    "*  Response 3\n",
    "*  Response 4"
   ]
  },
  {
   "cell_type": "markdown",
   "metadata": {},
   "source": [
    "### Question 4: Simple Data Analysis - World Population Demographics\n",
    "Using the [World Bank - Population Data Site](http://data.worldbank.org/indicator/SP.POP.TOTL), complete the following analysis tasks: *(You may use any tools for this excercise)*"
   ]
  },
  {
   "cell_type": "markdown",
   "metadata": {},
   "source": [
    "#### a. Identify the top three countries with the **largest population growth** in the past five years.\n",
    "* Country 1\n",
    "* Country 2\n",
    "* Country 3"
   ]
  },
  {
   "cell_type": "markdown",
   "metadata": {},
   "source": [
    "#### b. Identify the top three countries with the **lowest (or negative) population growth** in the past five years.\n",
    "* Country 1\n",
    "* Country 2\n",
    "* Country 3"
   ]
  },
  {
   "cell_type": "markdown",
   "metadata": {},
   "source": [
    "### Question 5 - Python list objects\n",
    "For each item below, enter the code to complete the operation:"
   ]
  },
  {
   "cell_type": "code",
   "execution_count": 14,
   "metadata": {
    "collapsed": true
   },
   "outputs": [],
   "source": [
    "#  a. take a list of [2, 3, 4] and multiply it by 3 to get [6, 9, 12]\n",
    "a = [1, 2, 3]\n"
   ]
  },
  {
   "cell_type": "code",
   "execution_count": 10,
   "metadata": {},
   "outputs": [],
   "source": [
    "# b  Return count of 'white' values in the list\n",
    "colors = ['red', 'white', 'blue', 'white', 'purple', 'brown', 'white']\n"
   ]
  },
  {
   "cell_type": "code",
   "execution_count": 11,
   "metadata": {
    "collapsed": true
   },
   "outputs": [],
   "source": [
    "# c  Add value 'green' to color list below\n",
    "colors = ['red', 'white', 'blue', 'white', 'purple', 'brown', 'white']\n"
   ]
  },
  {
   "cell_type": "markdown",
   "metadata": {},
   "source": [
    "### Question 6 - Python dictionaries\n",
    "For each item below, enter the code to complete the operation:"
   ]
  },
  {
   "cell_type": "code",
   "execution_count": null,
   "metadata": {
    "collapsed": true
   },
   "outputs": [],
   "source": [
    "# a  Add an additional value [c:30] to the following dictionary\n",
    "tens = {a:10, b:20}\n"
   ]
  },
  {
   "cell_type": "code",
   "execution_count": null,
   "metadata": {
    "collapsed": true
   },
   "outputs": [],
   "source": [
    "# b  Print the value of 'b'\n",
    "tens = {a:10, b:20, c:30}\n"
   ]
  },
  {
   "cell_type": "code",
   "execution_count": null,
   "metadata": {
    "collapsed": true
   },
   "outputs": [],
   "source": [
    "# c Merge the following two dictionaries in a single new dictionary\n",
    "t1 = {'a': 100, 'b': 200}\n",
    "t2 = {'c': 300, 'd': 400}\n"
   ]
  },
  {
   "cell_type": "markdown",
   "metadata": {},
   "source": [
    "### Question 7 - Python loops\n",
    "For each item below, enter the code to complete the operation:"
   ]
  },
  {
   "cell_type": "code",
   "execution_count": 19,
   "metadata": {
    "collapsed": true
   },
   "outputs": [],
   "source": [
    "# a  Using the range() function, write a short for loop to print numbers from 1 to 10:\n"
   ]
  },
  {
   "cell_type": "code",
   "execution_count": 20,
   "metadata": {},
   "outputs": [
    {
     "name": "stdout",
     "output_type": "stream",
     "text": [
      "0\n"
     ]
    }
   ],
   "source": [
    "# b  Write a short while loop to create a list of numbers from 1 to 10\n",
    "a = []\n",
    "# Loop\n",
    "print(len(a))\n"
   ]
  },
  {
   "cell_type": "code",
   "execution_count": 21,
   "metadata": {
    "collapsed": true
   },
   "outputs": [],
   "source": [
    "# c  Write a short loop from 1 to 100. Print 'fizz' if the number if evenly divisible by 3, print 'buzz'\n",
    "#    if the number is evenly divisible by 5, and print 'fizzbuzz' if number is divisible by both 3 and 5.\n"
   ]
  },
  {
   "cell_type": "markdown",
   "metadata": {},
   "source": [
    "### Question 8 - Python date formatting\n",
    "For each item below, enter the code to complete the operation:"
   ]
  },
  {
   "cell_type": "code",
   "execution_count": 25,
   "metadata": {},
   "outputs": [],
   "source": [
    "# a Print the current date in the format: \"Month, Day Year\"\n",
    "from datetime import date\n"
   ]
  },
  {
   "cell_type": "code",
   "execution_count": 32,
   "metadata": {},
   "outputs": [],
   "source": [
    "# b Calculate the number of days between the following two dates:\n",
    "from datetime import date\n",
    "d1 = date(2016, 10, 3)\n",
    "d2 = date(2017, 10, 3)\n"
   ]
  },
  {
   "cell_type": "code",
   "execution_count": 33,
   "metadata": {
    "collapsed": true
   },
   "outputs": [],
   "source": [
    "# c Print current date and time in the format: 'YYYY-MM-DD HH:MM:SS'\n",
    "import datetime\n"
   ]
  },
  {
   "cell_type": "markdown",
   "metadata": {},
   "source": [
    "### Question 9 - Data files\n",
    "For each item below, enter the code to complete the operation:"
   ]
  },
  {
   "cell_type": "code",
   "execution_count": 42,
   "metadata": {},
   "outputs": [],
   "source": [
    "# a complete the following to load the data file and print the number of rows\n",
    "import csv\n",
    "import requests\n",
    "\n",
    "url = 'http://winterolympicsmedals.com/medals.csv'\n",
    "r = requests.get(url)\n"
   ]
  },
  {
   "cell_type": "code",
   "execution_count": 44,
   "metadata": {},
   "outputs": [],
   "source": [
    "# b complete the following to save the file to a local copy: (open('dataset.csv', 'w')) \n",
    "import urllib.request\n",
    "\n",
    "url = 'http://samplecsvs.s3.amazonaws.com/Sacramentorealestatetransactions.csv'\n"
   ]
  },
  {
   "cell_type": "code",
   "execution_count": 45,
   "metadata": {
    "collapsed": true
   },
   "outputs": [],
   "source": [
    "# c complete the following to read a local file: (open('dataset.csv', 'r')) \n",
    "import csv\n"
   ]
  },
  {
   "cell_type": "markdown",
   "metadata": {},
   "source": [
    "### Question 10 - (Optional) - Probability Puzzle\n",
    "1. **Single Dice Game** *(You may use any tools for this excercise)*\n",
    " * You are playing a game with one (1) standard six-sided dice (die)\n",
    " * You may roll three (3) times\n",
    " * You will receive a reward of the amount you roll: (1-6)\n",
    " * You cannot keep prior rolls\n",
    "\n",
    "2. What is the expected average payout you will receive playing this game?"
   ]
  },
  {
   "cell_type": "markdown",
   "metadata": {},
   "source": [
    "### All Done"
   ]
  }
 ],
 "metadata": {
  "kernelspec": {
   "display_name": "Python 3",
   "language": "python",
   "name": "python3"
  },
  "language_info": {
   "codemirror_mode": {
    "name": "ipython",
    "version": 3
   },
   "file_extension": ".py",
   "mimetype": "text/x-python",
   "name": "python",
   "nbconvert_exporter": "python",
   "pygments_lexer": "ipython3",
   "version": "3.6.2"
  }
 },
 "nbformat": 4,
 "nbformat_minor": 2
}
