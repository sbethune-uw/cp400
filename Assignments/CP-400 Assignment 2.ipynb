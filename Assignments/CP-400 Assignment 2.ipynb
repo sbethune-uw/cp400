{
 "cells": [
  {
   "cell_type": "markdown",
   "metadata": {},
   "source": [
    "# Assignment 2 - Making Decisions with Data\n",
    "Student Name<br>\n",
    "October 17, 2017\n",
    "\n",
    "This assignment covers experiment study design, hypothesis development, common bias and error issues as well as simple predictive analytics using regression analysis and decision trees.\n",
    "\n",
    "## The objectives of this assignment are:\n",
    "* Understand experiment types and design\n",
    "* Understand common errors and bias factors\n",
    "* Simple predictive analytics\n",
    "* Using Python Notebooks to create simple linear regression models"
   ]
  },
  {
   "cell_type": "markdown",
   "metadata": {},
   "source": [
    "### Question 1 - Experiment Design\n",
    "For each item below, write a short description of the following project activities:"
   ]
  },
  {
   "cell_type": "markdown",
   "metadata": {},
   "source": [
    "a) Briefly describe some common issues in experiment design"
   ]
  },
  {
   "cell_type": "code",
   "execution_count": null,
   "metadata": {
    "collapsed": true
   },
   "outputs": [],
   "source": []
  },
  {
   "cell_type": "markdown",
   "metadata": {},
   "source": [
    "b) You are assigned to a new drug study using 40 mice (20m / 20f) where half would be treated and the other half are untreated. Also, the procedure is complex and is limited to (4) mice per day. What would be the most efficient approach to assign the mice by group and day?"
   ]
  },
  {
   "cell_type": "code",
   "execution_count": null,
   "metadata": {
    "collapsed": true
   },
   "outputs": [],
   "source": []
  },
  {
   "cell_type": "markdown",
   "metadata": {},
   "source": [
    "c) Briefly describe some of the difference between **Experiment** vs. **Observational** studies:"
   ]
  },
  {
   "cell_type": "code",
   "execution_count": null,
   "metadata": {
    "collapsed": true
   },
   "outputs": [],
   "source": []
  },
  {
   "cell_type": "markdown",
   "metadata": {},
   "source": [
    "d) Create a simple experiment design for the following:\n",
    "\n",
    "**Study: Plants grow more when exposed to classical music**\n",
    "\n",
    "Review and complete the following questions:   \n",
    "1. How would you design a study for this?\n",
    "2. How will you select the significant factors?\n",
    "3. How many samples/subjects will you need?\n",
    "4. Briefly describe your experiment approach:"
   ]
  },
  {
   "cell_type": "code",
   "execution_count": null,
   "metadata": {
    "collapsed": true
   },
   "outputs": [],
   "source": []
  },
  {
   "cell_type": "markdown",
   "metadata": {},
   "source": [
    "### Question 2 - Experimental Error Types"
   ]
  },
  {
   "cell_type": "markdown",
   "metadata": {},
   "source": [
    "a) Briefly describe **Type 1** experimental errors and provide two (2) examples:"
   ]
  },
  {
   "cell_type": "markdown",
   "metadata": {
    "collapsed": true
   },
   "source": [
    "1. \n",
    "2. "
   ]
  },
  {
   "cell_type": "markdown",
   "metadata": {},
   "source": [
    "b) Briefly describe **Type 2** experimental errors and provide two (2) examples:"
   ]
  },
  {
   "cell_type": "markdown",
   "metadata": {},
   "source": [
    "1. \n",
    "2. "
   ]
  },
  {
   "cell_type": "markdown",
   "metadata": {},
   "source": [
    "### Question 3 - Hypothesis Defintion\n",
    "\n",
    "Review the following study description:\n",
    "\n",
    "\n",
    "*A renown doctor claims that 17 year olds have an average body temperature higher than the average (98.6 f). After conducting a random statistical sample of 25 17 year olds, the average temperature is found to be (98.9 f) with a standard deviation of 0.6 degrees f*"
   ]
  },
  {
   "cell_type": "markdown",
   "metadata": {},
   "source": [
    "a) Identify the hypothesis in this study:"
   ]
  },
  {
   "cell_type": "code",
   "execution_count": null,
   "metadata": {
    "collapsed": true
   },
   "outputs": [],
   "source": []
  },
  {
   "cell_type": "markdown",
   "metadata": {},
   "source": [
    "b) Define the null hypothesis (H0) for this study:"
   ]
  },
  {
   "cell_type": "code",
   "execution_count": null,
   "metadata": {
    "collapsed": true
   },
   "outputs": [],
   "source": []
  },
  {
   "cell_type": "markdown",
   "metadata": {},
   "source": [
    "c)  Identify any alternate hypothesis (Ha) applicable for this study:"
   ]
  },
  {
   "cell_type": "code",
   "execution_count": null,
   "metadata": {
    "collapsed": true
   },
   "outputs": [],
   "source": []
  },
  {
   "cell_type": "markdown",
   "metadata": {},
   "source": [
    "### Question 4: Causation"
   ]
  },
  {
   "cell_type": "markdown",
   "metadata": {},
   "source": [
    "**For each of the following statements, assign a value from the list below:**\n",
    "  \n",
    "  \n",
    "  **a.** There are confounding variables  \n",
    "  **b.** It is unclear which variable is the cause and which is the effect  \n",
    "  **c.** It is unreasonable to generalize from the sample studied  \n",
    "  **d.** The variables actually measured are not related to the effect  \n",
    "  **e.** No plausible alternative explanation exists  "
   ]
  },
  {
   "cell_type": "markdown",
   "metadata": {},
   "source": [
    " 1\\. *A County inspector found that 35% of the sprinklers failed to activate under 7 pounds of pressure. However, the manufacturer maintains that the 7 psi threshold for passing or failing does not reflect typical water pressure in sprinkler systems.*"
   ]
  },
  {
   "cell_type": "code",
   "execution_count": null,
   "metadata": {
    "collapsed": true
   },
   "outputs": [],
   "source": []
  },
  {
   "cell_type": "markdown",
   "metadata": {},
   "source": [
    "2\\. *Samoans have been reported having increasing incidence of violence as measured by the steadily increasing number of television sales.*"
   ]
  },
  {
   "cell_type": "code",
   "execution_count": null,
   "metadata": {
    "collapsed": true
   },
   "outputs": [],
   "source": []
  },
  {
   "cell_type": "markdown",
   "metadata": {},
   "source": [
    "3\\. *A new study suggests that women have lower abilities to be orchestra conductors since only a small percentage of orchestra conductors are women.*"
   ]
  },
  {
   "cell_type": "code",
   "execution_count": null,
   "metadata": {
    "collapsed": true
   },
   "outputs": [],
   "source": []
  },
  {
   "cell_type": "markdown",
   "metadata": {},
   "source": [
    "### Question 5 - Regression Analysis"
   ]
  },
  {
   "cell_type": "markdown",
   "metadata": {},
   "source": [
    "a\\. Briefly describe the difference between **linear** and **logistic** regression:"
   ]
  },
  {
   "cell_type": "markdown",
   "metadata": {
    "collapsed": true
   },
   "source": [
    "**Linear Regression:**"
   ]
  },
  {
   "cell_type": "markdown",
   "metadata": {},
   "source": [
    "**Logistic Regression:**"
   ]
  },
  {
   "cell_type": "markdown",
   "metadata": {},
   "source": [
    "b\\. Review and run the following code to create a linear regression model:"
   ]
  },
  {
   "cell_type": "code",
   "execution_count": null,
   "metadata": {
    "collapsed": true
   },
   "outputs": [],
   "source": [
    "# Import libraries -- install as needed\n",
    "import numpy as np\n",
    "import pandas as pd\n",
    "import matplotlib as mpl\n",
    "import matplotlib.pyplot as plt\n",
    "\n",
    "%matplotlib inline"
   ]
  },
  {
   "cell_type": "code",
   "execution_count": null,
   "metadata": {},
   "outputs": [],
   "source": [
    "# Load Boston house prices sample dataset\n",
    "from sklearn.datasets import load_boston\n",
    "boston = load_boston()\n",
    "\n",
    "dataset = pd.DataFrame(boston.data, columns=boston.feature_names)\n",
    "dataset['PRICE'] = boston.target\n",
    "dataset.head()"
   ]
  },
  {
   "cell_type": "code",
   "execution_count": null,
   "metadata": {},
   "outputs": [],
   "source": [
    "# Create scatter plot showing relationship\n",
    "plt.scatter(dataset.RM, dataset.PRICE)\n",
    "plt.xlabel('Average number of rooms (RM)')\n",
    "plt.ylabel(\"House Price\")\n",
    "plt.title(\"Regression analysis of RM and PRICE\")"
   ]
  },
  {
   "cell_type": "code",
   "execution_count": null,
   "metadata": {},
   "outputs": [],
   "source": [
    "# Create Linear Regression model\n",
    "from sklearn.linear_model import LinearRegression\n",
    "\n",
    "# Create training dataset\n",
    "x_param = dataset.drop('PRICE', axis=1)\n",
    "\n",
    "lm = LinearRegression()\n",
    "lm.fit(x_param, dataset['PRICE'])\n",
    "\n",
    "print('Regression intercept coefficient: {}'.format(lm.intercept_))\n",
    "print('Regression number of coefficients: {}'.format(len(lm.coef_)))"
   ]
  },
  {
   "cell_type": "code",
   "execution_count": null,
   "metadata": {},
   "outputs": [],
   "source": [
    "# Plot predicted house price comparison\n",
    "plt.scatter(dataset.PRICE, lm.predict(x_param))\n",
    "plt.xlabel(\"Prices: $Y_i$\")\n",
    "plt.ylabel(\"Predicted prices: $\\hat{Y}_i$\")\n",
    "plt.title(\"House prices vs regression\")"
   ]
  },
  {
   "cell_type": "markdown",
   "metadata": {},
   "source": [
    "### Question 6 - Regression Error Analysis"
   ]
  },
  {
   "cell_type": "markdown",
   "metadata": {
    "collapsed": true
   },
   "source": [
    "a. Review the following to estimate the *mean squared error*:"
   ]
  },
  {
   "cell_type": "code",
   "execution_count": null,
   "metadata": {},
   "outputs": [],
   "source": [
    "# Calculate mean squared error\n",
    "mse = np.mean((dataset.PRICE - lm.predict(x_param)) ** 2)\n",
    "mse"
   ]
  },
  {
   "cell_type": "markdown",
   "metadata": {
    "collapsed": true
   },
   "source": [
    "b. Review the following to estimate the *residuals*:"
   ]
  },
  {
   "cell_type": "code",
   "execution_count": null,
   "metadata": {},
   "outputs": [],
   "source": [
    "# Calculate residuals\n",
    "residuals = dataset['PRICE'] - lm.predict(x_param)\n",
    "\n",
    "print(\"Head of residual: {}\".format(residuals[:5]))\n",
    "print(\"Mean of residual: {}\".format(np.mean(residuals)))\n",
    "print(\"SD of residual: {}\".format(np.std(residuals)))"
   ]
  },
  {
   "cell_type": "markdown",
   "metadata": {},
   "source": [
    "### Question 7 - Regression Analysis"
   ]
  },
  {
   "cell_type": "markdown",
   "metadata": {
    "collapsed": true
   },
   "source": [
    "a\\. Using Question 5 as an example, write the code to complete a simple regression analsysis on the following data set."
   ]
  },
  {
   "cell_type": "code",
   "execution_count": null,
   "metadata": {},
   "outputs": [],
   "source": [
    "# Download California house prices sample dataset -- need to have internet connection.\n",
    "from sklearn.datasets import fetch_california_housing\n",
    "cal = fetch_california_housing()\n",
    "\n",
    "df_cal = pd.DataFrame(cal.data, columns=cal.feature_names)\n",
    "df_cal['PRICE'] = cal.target\n",
    "df_cal.head()"
   ]
  },
  {
   "cell_type": "code",
   "execution_count": null,
   "metadata": {
    "collapsed": true
   },
   "outputs": [],
   "source": [
    "# Create scatter plot showing relationship of AveRooms (AR) and PRICE\n"
   ]
  },
  {
   "cell_type": "code",
   "execution_count": null,
   "metadata": {
    "collapsed": true
   },
   "outputs": [],
   "source": [
    "# Create create training dataset and fit linear model\n"
   ]
  },
  {
   "cell_type": "code",
   "execution_count": null,
   "metadata": {
    "collapsed": true
   },
   "outputs": [],
   "source": [
    "# Create predicted vs actual house price comparison\n"
   ]
  },
  {
   "cell_type": "markdown",
   "metadata": {},
   "source": [
    "b. Using Question 6 as an example, write the code for a simple regression error analysis."
   ]
  },
  {
   "cell_type": "code",
   "execution_count": null,
   "metadata": {
    "collapsed": true
   },
   "outputs": [],
   "source": [
    "# Print Mean Squared Error\n"
   ]
  },
  {
   "cell_type": "code",
   "execution_count": null,
   "metadata": {
    "collapsed": true
   },
   "outputs": [],
   "source": [
    "# Print Residuals"
   ]
  },
  {
   "cell_type": "markdown",
   "metadata": {},
   "source": [
    "### Question 8 - (Optional) - Understanding Probability\n",
    "\n",
    "\n",
    "In an act of mercy, the Emperor offers a prisoner a trial to pick **one** pebble from two (2) bowls. There are fifty (50) white pebbles and fifty (50) black pebbles. The prisoner is blindfolded and must choose only one (1) pebble. If the prisoner chooses a white pebble he will be freed, but if he chooses a black pebble he will be immediately executed. \n",
    "\n",
    "\n",
    "Describe how the pebbles should be distributed to ensure the **highest chance of survival**:"
   ]
  },
  {
   "cell_type": "code",
   "execution_count": null,
   "metadata": {
    "collapsed": true
   },
   "outputs": [],
   "source": []
  },
  {
   "cell_type": "markdown",
   "metadata": {},
   "source": [
    "### All Done"
   ]
  }
 ],
 "metadata": {
  "kernelspec": {
   "display_name": "Python 3",
   "language": "python",
   "name": "python3"
  },
  "language_info": {
   "codemirror_mode": {
    "name": "ipython",
    "version": 3
   },
   "file_extension": ".py",
   "mimetype": "text/x-python",
   "name": "python",
   "nbconvert_exporter": "python",
   "pygments_lexer": "ipython3",
   "version": "3.6.3"
  }
 },
 "nbformat": 4,
 "nbformat_minor": 2
}
